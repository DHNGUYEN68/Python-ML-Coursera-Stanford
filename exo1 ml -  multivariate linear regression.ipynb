{
 "cells": [
  {
   "cell_type": "code",
   "execution_count": 1,
   "metadata": {
    "collapsed": true,
    "deletable": true,
    "editable": true
   },
   "outputs": [],
   "source": [
    "## This Python notebook implements the linear regression from scratch for multivariate (multi features)\n",
    "## using gradient descent method\n",
    "## Credit : Machine Learning course (assignment #1) from Prof Andrew Ng (free course on Coursera/Stanford)"
   ]
  },
  {
   "cell_type": "code",
   "execution_count": 2,
   "metadata": {
    "collapsed": false,
    "deletable": true,
    "editable": true
   },
   "outputs": [
    {
     "name": "stdout",
     "output_type": "stream",
     "text": [
      "(47, 2)\n"
     ]
    }
   ],
   "source": [
    "import numpy as np\n",
    "import matplotlib.pyplot as plt\n",
    "# load data from csv file \n",
    "data=np.genfromtxt('ex1data2.txt', delimiter=',')\n",
    "# Two features\n",
    "X=data[:,0:2]\n",
    "\n",
    "# Target feature \n",
    "y=data[:,2:3]\n",
    "\n",
    "# count of examples (number of houses)\n",
    "m=len(y)\n",
    "\n",
    "## for debug\n",
    "print(X.shape)"
   ]
  },
  {
   "cell_type": "code",
   "execution_count": 3,
   "metadata": {
    "collapsed": false,
    "deletable": true,
    "editable": true
   },
   "outputs": [
    {
     "name": "stdout",
     "output_type": "stream",
     "text": [
      "[[2.10400e+03 3.00000e+00 3.99900e+05]\n",
      " [1.60000e+03 3.00000e+00 3.29900e+05]\n",
      " [2.40000e+03 3.00000e+00 3.69000e+05]\n",
      " [1.41600e+03 2.00000e+00 2.32000e+05]\n",
      " [3.00000e+03 4.00000e+00 5.39900e+05]\n",
      " [1.98500e+03 4.00000e+00 2.99900e+05]\n",
      " [1.53400e+03 3.00000e+00 3.14900e+05]\n",
      " [1.42700e+03 3.00000e+00 1.98999e+05]\n",
      " [1.38000e+03 3.00000e+00 2.12000e+05]]\n"
     ]
    }
   ],
   "source": [
    "## print 10 records\n",
    "a=X[0:9,:]\n",
    "b=y[0:9,:]\n",
    "c=np.concatenate((a,b),axis=1)\n",
    "print(c)"
   ]
  },
  {
   "cell_type": "code",
   "execution_count": 4,
   "metadata": {
    "collapsed": false
   },
   "outputs": [
    {
     "name": "stdout",
     "output_type": "stream",
     "text": [
      "[[2.104e+03 3.000e+00]\n",
      " [1.600e+03 3.000e+00]\n",
      " [2.400e+03 3.000e+00]\n",
      " [1.416e+03 2.000e+00]\n",
      " [3.000e+03 4.000e+00]\n",
      " [1.985e+03 4.000e+00]\n",
      " [1.534e+03 3.000e+00]\n",
      " [1.427e+03 3.000e+00]\n",
      " [1.380e+03 3.000e+00]]\n"
     ]
    }
   ],
   "source": [
    "print (X[0:9,:])"
   ]
  },
  {
   "cell_type": "code",
   "execution_count": 5,
   "metadata": {
    "collapsed": false,
    "deletable": true,
    "editable": true
   },
   "outputs": [
    {
     "name": "stdout",
     "output_type": "stream",
     "text": [
      "[[2.104e+03 3.000e+00]\n",
      " [1.600e+03 3.000e+00]\n",
      " [2.400e+03 3.000e+00]\n",
      " [1.416e+03 2.000e+00]\n",
      " [3.000e+03 4.000e+00]\n",
      " [1.985e+03 4.000e+00]\n",
      " [1.534e+03 3.000e+00]\n",
      " [1.427e+03 3.000e+00]\n",
      " [1.380e+03 3.000e+00]]\n"
     ]
    }
   ],
   "source": [
    "# features normalise\n",
    "X_norm = np.copy(X)  # make a copy of values\n",
    "#X_norm = X  # this is a reference / address\n",
    "mu = np.zeros(np.size(X[0,:]))\n",
    "sigma = np.zeros(np.size(X[0,:]))\n",
    "\n",
    "def featureNormalize(X_norm, mu, sigma):\n",
    "  global X\n",
    "  num_features = np.size(X[0,:])\n",
    "  for i in range(num_features):\n",
    "        mu[i]    =  np.mean(X[:,i])\n",
    "        sigma[i] =  np.std(X[:,i])\n",
    "        X_norm[:,i] = (X[:,i] - mu[i]) / sigma[i] \n",
    "       \n",
    "print (X[0:9,:])"
   ]
  },
  {
   "cell_type": "code",
   "execution_count": 6,
   "metadata": {
    "collapsed": false
   },
   "outputs": [
    {
     "name": "stdout",
     "output_type": "stream",
     "text": [
      "[7.86202619e+02 7.52842809e-01]\n",
      "[2000.68085106    3.17021277]\n"
     ]
    }
   ],
   "source": [
    "featureNormalize(X_norm, mu, sigma)\n",
    "# Expected std\n",
    "# Feature #1 794.7023535 Feature #2 0.760981887\n",
    "print (sigma)\n",
    "\n",
    "# Expected Average\n",
    "# Feature #1 2000.680851  Feature #2 3.170212766\n",
    "print (mu)\n"
   ]
  },
  {
   "cell_type": "code",
   "execution_count": 7,
   "metadata": {
    "collapsed": false,
    "deletable": true,
    "editable": true
   },
   "outputs": [
    {
     "name": "stdout",
     "output_type": "stream",
     "text": [
      "[[ 1.          0.13141542 -0.22609337]\n",
      " [ 1.         -0.5096407  -0.22609337]\n",
      " [ 1.          0.5079087  -0.22609337]\n",
      " [ 1.         -0.74367706 -1.5543919 ]\n",
      " [ 1.          1.27107075  1.10220517]\n",
      " [ 1.         -0.01994505  1.10220517]\n",
      " [ 1.         -0.59358852 -0.22609337]\n",
      " [ 1.         -0.72968575 -0.22609337]\n",
      " [ 1.         -0.78946678 -0.22609337]]\n"
     ]
    }
   ],
   "source": [
    "ones=np.ones(m).reshape(m,1)\n",
    "X_train = (np.append(ones, X_norm, axis=1))\n",
    "# Append the first columns of 1 in X matrix (artificial feature for the intercept)\n",
    "X_train.shape\n",
    "print (X_train[0:9,:])  # normalised values for training with gradient descent"
   ]
  },
  {
   "cell_type": "code",
   "execution_count": 8,
   "metadata": {
    "collapsed": false
   },
   "outputs": [],
   "source": [
    "# Choose some alpha value\n",
    "# Some gradient descent settings\n",
    "alpha = 0.02\n",
    "num_iters = 400\n",
    "J_history = np.zeros(num_iters).reshape(num_iters,1)"
   ]
  },
  {
   "cell_type": "code",
   "execution_count": 9,
   "metadata": {
    "collapsed": true,
    "deletable": true,
    "editable": true
   },
   "outputs": [],
   "source": [
    "theta = np.zeros(3).reshape(3,1)\n",
    "# initialise the parameters (two for univariate linear regression) a*x + b = y\n",
    "# theta[0] is b : intercept\n",
    "# theta[1] is  slope1\n",
    "# theta[2] is  slope2\n",
    "\n",
    "# Init Theta and Run Gradient Descent \n",
    "#theta = zeros(3, 1);\n",
    "#[theta, J_history] = gradientDescentMulti(X_train, y, theta, alpha, num_iters);"
   ]
  },
  {
   "cell_type": "code",
   "execution_count": 10,
   "metadata": {
    "collapsed": false,
    "deletable": true,
    "editable": true
   },
   "outputs": [
    {
     "name": "stdout",
     "output_type": "stream",
     "text": [
      "[[0.]\n",
      " [0.]\n",
      " [0.]]\n"
     ]
    }
   ],
   "source": [
    "def computeCostMulti(X_train,y,theta):\n",
    "  #COMPUTECOST Compute cost for linear regression\n",
    "  #   J = COMPUTECOST(X, y, theta) computes the cost of using theta as the\n",
    "  #   parameter for linear regression to fit the data points in X and y\n",
    "\n",
    "  # Initialize some useful values\n",
    "  m = len(y)\n",
    "  # You need to return the following variables correctly \n",
    "  J = 0;\n",
    "  # ====================== YOUR CODE HERE ======================\n",
    "  # Instructions: Compute the cost of a particular choice of theta\n",
    "  #               You should set J to the cost.\n",
    "\n",
    "  #In math : predictions =  X_train * theta\n",
    "  predictions =  np.matmul(X_train,theta)\n",
    "  square_err = np.power((predictions - y),2)\n",
    "  J = 1/(2*m)* np.sum(square_err)\n",
    "  # least square method : square the difference to take the absolute value\n",
    "  return J\n",
    "\n",
    "# =========================================================================\n",
    "\n",
    "#J_history = np.zeros(1500).reshape(1500,1)\n",
    "# for debug\n",
    "print(theta)"
   ]
  },
  {
   "cell_type": "code",
   "execution_count": 11,
   "metadata": {
    "collapsed": false
   },
   "outputs": [],
   "source": [
    "def gradientDescentMulti(X, y, theta, alpha, num_iters):\n",
    "#GRADIENTDESCENTMULTI Performs gradient descent to learn theta\n",
    "#   theta = GRADIENTDESCENTMULTI(x, y, theta, alpha, num_iters) updates theta by\n",
    "#   taking num_iters gradient steps with learning rate alpha\n",
    "  global J_history\n",
    "# Initialize some useful values\n",
    "  m = len(y)\n",
    "# number of training examples\n",
    "  J_history = np.zeros(num_iters).reshape(num_iters, 1)\n",
    "  for iter in range(num_iters):\n",
    "    predictions = np.matmul(X,theta)\n",
    "    updates = np.matmul(X.T,(predictions - y))\n",
    "    theta = theta - alpha * (1/m) * updates\n",
    "    J_history[iter]=computeCostMulti(X, y, theta)\n",
    "  return(theta)"
   ]
  },
  {
   "cell_type": "code",
   "execution_count": 12,
   "metadata": {
    "collapsed": false,
    "deletable": true,
    "editable": true
   },
   "outputs": [],
   "source": [
    "J=computeCostMulti(X_train, y, theta)"
   ]
  },
  {
   "cell_type": "code",
   "execution_count": 13,
   "metadata": {
    "collapsed": false,
    "deletable": true,
    "editable": true
   },
   "outputs": [
    {
     "name": "stdout",
     "output_type": "stream",
     "text": [
      "65591548106.45744\n",
      "[[0.]\n",
      " [0.]\n",
      " [0.]]\n"
     ]
    }
   ],
   "source": [
    "print(J)\n",
    "print(theta)\n",
    "## cost with the null parameters (defauted null values in initialisation of theta variable)"
   ]
  },
  {
   "cell_type": "code",
   "execution_count": 14,
   "metadata": {
    "collapsed": false,
    "deletable": true,
    "editable": true
   },
   "outputs": [
    {
     "data": {
      "image/png": "[encoded data removed]",
      "text/plain": [
       "<matplotlib.figure.Figure at 0x22cb549da90>"
      ]
     },
     "metadata": {},
     "output_type": "display_data"
    }
   ],
   "source": [
    "theta = gradientDescentMulti(X_train, y, theta, alpha, num_iters)\n",
    "x_vals = np.linspace(0,num_iters+1,num_iters)\n",
    "#min_y = J_history.min()\n",
    "#max_y = J_history.max()\n",
    "#plt.axis([0,400,min_y, max_y])\n",
    "plt.plot(x_vals,J_history,'-')\n",
    "plt.xlabel(\"Numbers of iterations\")\n",
    "plt.ylabel(\"Cost J\")\n",
    "plt.show()\n",
    "#print(J_history)"
   ]
  },
  {
   "cell_type": "code",
   "execution_count": 15,
   "metadata": {
    "collapsed": false,
    "deletable": true,
    "editable": true
   },
   "outputs": [
    {
     "name": "stdout",
     "output_type": "stream",
     "text": [
      "[[340307.35772969]\n",
      " [107757.47433209]\n",
      " [ -4888.35338493]]\n"
     ]
    }
   ],
   "source": [
    "print(theta)\n",
    "# the values match with polyfit (moreless)\n",
    "#expected values\n",
    "# 340307.357730\n",
    "# 108788.316675\n",
    "# -4807.166967"
   ]
  },
  {
   "cell_type": "code",
   "execution_count": 16,
   "metadata": {
    "collapsed": false,
    "deletable": true,
    "editable": true
   },
   "outputs": [
    {
     "name": "stdout",
     "output_type": "stream",
     "text": [
      "Least cost:2044542613.2133398\n"
     ]
    }
   ],
   "source": [
    "JJ=computeCostMulti(X_train, y, theta)\n",
    "print(\"Least cost:\"+repr(JJ))\n",
    "# check the least cost - debug"
   ]
  },
  {
   "cell_type": "code",
   "execution_count": 17,
   "metadata": {
    "collapsed": false,
    "deletable": true,
    "editable": true
   },
   "outputs": [
    {
     "name": "stdout",
     "output_type": "stream",
     "text": [
      "Predicted price of a 1650 sq-ft, 3 br house using gradient descent 293348.0221781551\n"
     ]
    }
   ],
   "source": [
    "# Estimate the price of a 1650 sq-ft, 3 br house\n",
    "price = 0; # You should change this\n",
    "element = np.array([1,(1650 - mu[0])/sigma[0],(3 - mu[1])/sigma[1]])\n",
    "price = np.matmul(element, theta)\n",
    "\n",
    "print('Predicted price of a 1650 sq-ft, 3 br house using gradient descent ' + repr(price[0]))\n",
    "# expect value  $293377.233014"
   ]
  },
  {
   "cell_type": "code",
   "execution_count": 18,
   "metadata": {
    "collapsed": true
   },
   "outputs": [],
   "source": [
    "def normalEqn(X, y):\n",
    "#NORMALEQN Computes the closed-form solution to linear regression \n",
    "#  NORMALEQN(X,y) computes the closed-form solution to linear \n",
    "#   regression using the normal equations.    \n",
    "  global theta\n",
    "  theta = np.zeros(3).reshape(3,1)\n",
    "  XT0 = np.matmul(X.T,X)\n",
    "  XT1 = np.matmul(X.T,y)\n",
    "  Inv_M = np.linalg.pinv(XT0)\n",
    "  theta = np.matmul(Inv_M,XT1)\n",
    "  #theta = np.matmul(np.linalg.pinv(np.matmul(X.T,X)), (np.matmul(X.T,y)))\n",
    "  return (theta)\n",
    "   # Math formula : theta = pinv(X' * X) * X' * y"
   ]
  },
  {
   "cell_type": "code",
   "execution_count": 19,
   "metadata": {
    "collapsed": false
   },
   "outputs": [
    {
     "name": "stdout",
     "output_type": "stream",
     "text": [
      "Predicted price of a 1650 sq-ft, 3 br house using gradient descent 178125474.9455257\n"
     ]
    }
   ],
   "source": [
    "# Estimate the price of a 1650 sq-ft, 3 br house\n",
    "price = 0; # You should change this\n",
    "element = np.array([1,1650,3])\n",
    "price = np.matmul(element, theta)\n",
    "\n",
    "print('Predicted price of a 1650 sq-ft, 3 br house using gradient descent ' + repr(price[0]))\n",
    "# expect value  $293081.464335"
   ]
  }
 ],
 "metadata": {
  "kernelspec": {
   "display_name": "Python 3",
   "language": "python",
   "name": "python3"
  },
  "language_info": {
   "codemirror_mode": {
    "name": "ipython",
    "version": 3
   },
   "file_extension": ".py",
   "mimetype": "text/x-python",
   "name": "python",
   "nbconvert_exporter": "python",
   "pygments_lexer": "ipython3",
   "version": "3.5.2"
  }
 },
 "nbformat": 4,
 "nbformat_minor": 2
}
